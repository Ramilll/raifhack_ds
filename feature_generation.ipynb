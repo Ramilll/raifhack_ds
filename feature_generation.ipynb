{
 "cells": [
  {
   "cell_type": "code",
   "execution_count": 81,
   "id": "c46203cf-f4c8-4549-a15a-d4256a970180",
   "metadata": {},
   "outputs": [],
   "source": [
    "import pandas as pd\n",
    "import numpy as np\n",
    "import os\n",
    "from preprocessing_data import preprocessing_floor"
   ]
  },
  {
   "cell_type": "code",
   "execution_count": 87,
   "id": "029c33f3-10e4-43d3-a2e0-1e76ef98fee7",
   "metadata": {},
   "outputs": [],
   "source": [
    "args = {\n",
    "    'tr'   : 'data_split/train.csv',    # Путь до обучающего датасета\n",
    "    'tst'  : 'data_split/val.csv',      # Путь до отложенной выборки\n",
    "    'o_tr' : 'data_preprocessed/train_v2.csv', # Куда положить обработанный обучающий датасет\n",
    "    'o_tst': 'data_preprocessed/val_v2.csv', # Куда положить обработанную обучающую выборку\n",
    "}"
   ]
  },
  {
   "cell_type": "code",
   "execution_count": 83,
   "id": "98bf8bfc-d5e3-4e9d-a4a0-b33e652a6c93",
   "metadata": {},
   "outputs": [],
   "source": [
    "def preprocess(data: pd.DataFrame) -> pd.DataFrame:\n",
    "    data = preprocessing_floor(data, -1000)\n",
    "    data['floor'][(-100 <= data.floor) & (data.floor <= 0)] = 0\n",
    "    data['floor'][(1 <= data.floor) & (data.floor <= 1)] = 1\n",
    "    data['floor'][(2 <= data.floor) & (data.floor <= 2)] = 2\n",
    "    data['floor'][(3 <= data.floor) & (data.floor <= 5)] = 3\n",
    "    data['floor'][(6 <= data.floor) & (data.floor <= 10)] = 4\n",
    "    data['floor'][(11 <= data.floor)] = 10\n",
    "    data['floor'][data.floor == -1000] = np.nan\n",
    "    \n",
    "    data['osm_city_nearest_population'] = data['osm_city_nearest_population'].fillna(0)\n",
    "    data = data.drop('street', axis=1)\n",
    "    \n",
    "    data.date = (pd.to_datetime(data.date) - pd.Timestamp('2020-01-01')).dt.days\n",
    "\n",
    "    return data"
   ]
  },
  {
   "cell_type": "code",
   "execution_count": 84,
   "id": "65fcd2cc-48e9-4c31-b800-8d9c24ed070e",
   "metadata": {},
   "outputs": [
    {
     "name": "stderr",
     "output_type": "stream",
     "text": [
      "C:\\Users\\Oleg\\AppData\\Local\\Temp/ipykernel_9136/3859488719.py:12: DtypeWarning: Columns (1) have mixed types.Specify dtype option on import or set low_memory=False.\n",
      "  gen_new_features()\n",
      "C:\\Users\\Oleg\\AppData\\Local\\Temp/ipykernel_9136/2968238328.py:3: SettingWithCopyWarning: \n",
      "A value is trying to be set on a copy of a slice from a DataFrame\n",
      "\n",
      "See the caveats in the documentation: https://pandas.pydata.org/pandas-docs/stable/user_guide/indexing.html#returning-a-view-versus-a-copy\n",
      "  data['floor'][(-100 <= data.floor) & (data.floor <= 0)] = 0\n",
      "C:\\Users\\Oleg\\AppData\\Local\\Temp/ipykernel_9136/2968238328.py:4: SettingWithCopyWarning: \n",
      "A value is trying to be set on a copy of a slice from a DataFrame\n",
      "\n",
      "See the caveats in the documentation: https://pandas.pydata.org/pandas-docs/stable/user_guide/indexing.html#returning-a-view-versus-a-copy\n",
      "  data['floor'][(1 <= data.floor) & (data.floor <= 1)] = 1\n",
      "C:\\Users\\Oleg\\AppData\\Local\\Temp/ipykernel_9136/2968238328.py:5: SettingWithCopyWarning: \n",
      "A value is trying to be set on a copy of a slice from a DataFrame\n",
      "\n",
      "See the caveats in the documentation: https://pandas.pydata.org/pandas-docs/stable/user_guide/indexing.html#returning-a-view-versus-a-copy\n",
      "  data['floor'][(2 <= data.floor) & (data.floor <= 2)] = 2\n",
      "C:\\Users\\Oleg\\AppData\\Local\\Temp/ipykernel_9136/2968238328.py:6: SettingWithCopyWarning: \n",
      "A value is trying to be set on a copy of a slice from a DataFrame\n",
      "\n",
      "See the caveats in the documentation: https://pandas.pydata.org/pandas-docs/stable/user_guide/indexing.html#returning-a-view-versus-a-copy\n",
      "  data['floor'][(3 <= data.floor) & (data.floor <= 5)] = 3\n",
      "C:\\Users\\Oleg\\AppData\\Local\\Temp/ipykernel_9136/2968238328.py:7: SettingWithCopyWarning: \n",
      "A value is trying to be set on a copy of a slice from a DataFrame\n",
      "\n",
      "See the caveats in the documentation: https://pandas.pydata.org/pandas-docs/stable/user_guide/indexing.html#returning-a-view-versus-a-copy\n",
      "  data['floor'][(6 <= data.floor) & (data.floor <= 10)] = 4\n",
      "C:\\Users\\Oleg\\AppData\\Local\\Temp/ipykernel_9136/2968238328.py:8: SettingWithCopyWarning: \n",
      "A value is trying to be set on a copy of a slice from a DataFrame\n",
      "\n",
      "See the caveats in the documentation: https://pandas.pydata.org/pandas-docs/stable/user_guide/indexing.html#returning-a-view-versus-a-copy\n",
      "  data['floor'][(11 <= data.floor)] = 10\n",
      "C:\\Users\\Oleg\\AppData\\Local\\Temp/ipykernel_9136/2968238328.py:9: SettingWithCopyWarning: \n",
      "A value is trying to be set on a copy of a slice from a DataFrame\n",
      "\n",
      "See the caveats in the documentation: https://pandas.pydata.org/pandas-docs/stable/user_guide/indexing.html#returning-a-view-versus-a-copy\n",
      "  data['floor'][data.floor == -1000] = np.nan\n"
     ]
    }
   ],
   "source": [
    "def gen_new_features():\n",
    "    for path_from, path_to in [(args['tr'], args['o_tr']), (args['tst'], args['o_tst'])]:\n",
    "        df = pd.read_csv(path_from, index_col='id')\n",
    "\n",
    "        gen_df = preprocess(df)\n",
    "        \n",
    "        os.makedirs(os.path.dirname(path_to), exist_ok=True)\n",
    "        gen_df.to_csv(path_to)\n",
    "\n",
    "\n",
    "if __name__ == '__main__':\n",
    "    gen_new_features()"
   ]
  },
  {
   "cell_type": "code",
   "execution_count": 86,
   "id": "8c9de81a-ffe0-483a-9eb8-b8486650908c",
   "metadata": {},
   "outputs": [
    {
     "data": {
      "text/plain": [
       "Index(['id', 'city', 'floor', 'lat', 'lng', 'osm_amenity_points_in_0.001',\n",
       "       'osm_amenity_points_in_0.005', 'osm_amenity_points_in_0.0075',\n",
       "       'osm_amenity_points_in_0.01', 'osm_building_points_in_0.001',\n",
       "       'osm_building_points_in_0.005', 'osm_building_points_in_0.0075',\n",
       "       'osm_building_points_in_0.01', 'osm_catering_points_in_0.001',\n",
       "       'osm_catering_points_in_0.005', 'osm_catering_points_in_0.0075',\n",
       "       'osm_catering_points_in_0.01', 'osm_city_closest_dist',\n",
       "       'osm_city_nearest_name', 'osm_city_nearest_population',\n",
       "       'osm_crossing_closest_dist', 'osm_crossing_points_in_0.001',\n",
       "       'osm_crossing_points_in_0.005', 'osm_crossing_points_in_0.0075',\n",
       "       'osm_crossing_points_in_0.01', 'osm_culture_points_in_0.001',\n",
       "       'osm_culture_points_in_0.005', 'osm_culture_points_in_0.0075',\n",
       "       'osm_culture_points_in_0.01', 'osm_finance_points_in_0.001',\n",
       "       'osm_finance_points_in_0.005', 'osm_finance_points_in_0.0075',\n",
       "       'osm_finance_points_in_0.01', 'osm_healthcare_points_in_0.005',\n",
       "       'osm_healthcare_points_in_0.0075', 'osm_healthcare_points_in_0.01',\n",
       "       'osm_historic_points_in_0.005', 'osm_historic_points_in_0.0075',\n",
       "       'osm_historic_points_in_0.01', 'osm_hotels_points_in_0.005',\n",
       "       'osm_hotels_points_in_0.0075', 'osm_hotels_points_in_0.01',\n",
       "       'osm_leisure_points_in_0.005', 'osm_leisure_points_in_0.0075',\n",
       "       'osm_leisure_points_in_0.01', 'osm_offices_points_in_0.001',\n",
       "       'osm_offices_points_in_0.005', 'osm_offices_points_in_0.0075',\n",
       "       'osm_offices_points_in_0.01', 'osm_shops_points_in_0.001',\n",
       "       'osm_shops_points_in_0.005', 'osm_shops_points_in_0.0075',\n",
       "       'osm_shops_points_in_0.01', 'osm_subway_closest_dist',\n",
       "       'osm_train_stop_closest_dist', 'osm_train_stop_points_in_0.005',\n",
       "       'osm_train_stop_points_in_0.0075', 'osm_train_stop_points_in_0.01',\n",
       "       'osm_transport_stop_closest_dist', 'osm_transport_stop_points_in_0.005',\n",
       "       'osm_transport_stop_points_in_0.0075',\n",
       "       'osm_transport_stop_points_in_0.01', 'per_square_meter_price',\n",
       "       'reform_count_of_houses_1000', 'reform_count_of_houses_500',\n",
       "       'reform_house_population_1000', 'reform_house_population_500',\n",
       "       'reform_mean_floor_count_1000', 'reform_mean_floor_count_500',\n",
       "       'reform_mean_year_building_1000', 'reform_mean_year_building_500',\n",
       "       'region', 'total_square', 'date', 'realty_type', 'price_type'],\n",
       "      dtype='object')"
      ]
     },
     "execution_count": 86,
     "metadata": {},
     "output_type": "execute_result"
    }
   ],
   "source": [
    "train = pd.read_csv(args['o_tr'])\n",
    "\n",
    "train.columns"
   ]
  },
  {
   "cell_type": "code",
   "execution_count": null,
   "id": "11aeec65-21fd-481c-9120-bcd188208860",
   "metadata": {},
   "outputs": [],
   "source": []
  }
 ],
 "metadata": {
  "kernelspec": {
   "display_name": "Python 3 (ipykernel)",
   "language": "python",
   "name": "python3"
  },
  "language_info": {
   "codemirror_mode": {
    "name": "ipython",
    "version": 3
   },
   "file_extension": ".py",
   "mimetype": "text/x-python",
   "name": "python",
   "nbconvert_exporter": "python",
   "pygments_lexer": "ipython3",
   "version": "3.9.7"
  }
 },
 "nbformat": 4,
 "nbformat_minor": 5
}
