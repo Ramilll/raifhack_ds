{
 "cells": [
  {
   "cell_type": "code",
   "execution_count": 1,
   "id": "1d265f79-1860-4fa5-a7f9-83286c2fb35f",
   "metadata": {},
   "outputs": [],
   "source": [
    "import pandas as pd\n",
    "from sklearn.linear_model import Ridge"
   ]
  },
  {
   "cell_type": "code",
   "execution_count": 2,
   "id": "068f2266-551b-47d2-818e-c5477765f76c",
   "metadata": {},
   "outputs": [],
   "source": [
    "args = {\n",
    "    'tr'      : 'data_split/train.csv',    # Путь до обучающего датасета\n",
    "    'tst'     : 'data_split/val.csv',      # Путь до отложенной выборки\n",
    "    'o_tst'   : 'data_split/val_pred.csv',       # Путь до предсказания отложенной выборки\n",
    "    'lgbm_tr' : 'generated_features/train1_lgbm.csv',    # LGBMRegressor for train\n",
    "    'lgbm_tst': 'generated_features/val_lgbm.csv',    # LGBMRegressor for train\n",
    "    'knn_tr'  : 'generated_features/train1_knn.csv',    # KNN for train\n",
    "    'knn_tst' : 'generated_features/val_knn.csv',    # KNN for train\n",
    "}"
   ]
  },
  {
   "cell_type": "code",
   "execution_count": 3,
   "id": "a7a802c3-4d47-4f1a-8d08-8d3bb8e19f70",
   "metadata": {},
   "outputs": [],
   "source": [
    "def predict(X_train, y_train, X_test):\n",
    "    model = Ridge(alpha=1.0)\n",
    "    model.fit(X_train, y_train)\n",
    "\n",
    "    return model.predict(X_test)"
   ]
  },
  {
   "cell_type": "code",
   "execution_count": 4,
   "id": "d0ead431-d6aa-40f6-ae92-a91d63078347",
   "metadata": {},
   "outputs": [
    {
     "name": "stderr",
     "output_type": "stream",
     "text": [
      "C:\\Users\\Oleg\\AppData\\Local\\Programs\\Python\\Python39\\lib\\site-packages\\IPython\\core\\interactiveshell.py:3444: DtypeWarning: Columns (1) have mixed types.Specify dtype option on import or set low_memory=False.\n",
      "  exec(code_obj, self.user_global_ns, self.user_ns)\n"
     ]
    }
   ],
   "source": [
    "train = pd.read_csv(args['tr'], index_col='id')\n",
    "train['realty_type_0'] = (train['realty_type'] == 10).astype(int)\n",
    "# train['realty_type_1'] = (train['realty_type'] == 100).astype(int)\n",
    "train['realty_type_2'] = (train['realty_type'] == 110).astype(int)\n",
    "train = train.drop(columns=['realty_type'])\n",
    "\n",
    "features = ['total_square', 'osm_city_nearest_population', 'realty_type_0', 'realty_type_2']\n",
    "\n",
    "train['osm_city_nearest_population'] = train['osm_city_nearest_population'].fillna(0)\n",
    "\n",
    "train1 = train[train.price_type == 1]\n",
    "y_train = train1['per_square_meter_price']\n",
    "train1 = train1[features]\n",
    "\n",
    "train1knn01 = pd.read_csv(args['knn_tr'], index_col='id')\n",
    "train1lgbm = pd.read_csv(args['lgbm_tr'], index_col='id').rename(columns={'per_square_meter_price' : 'lgbm'})\n",
    "\n",
    "train_ttl = pd.concat([train1, train1knn01, train1lgbm], axis=1, join=\"inner\")\n",
    "\n",
    "X_train = train_ttl.to_numpy()"
   ]
  },
  {
   "cell_type": "code",
   "execution_count": 5,
   "id": "2ac4681b-4172-4241-9a75-9eac5be605e8",
   "metadata": {},
   "outputs": [],
   "source": [
    "test = pd.read_csv(args['tst'], index_col='id')\n",
    "test['realty_type_0'] = (test['realty_type'] == 10).astype(int)\n",
    "# test['realty_type_1'] = (test['realty_type'] == 100).astype(int)\n",
    "test['realty_type_2'] = (test['realty_type'] == 110).astype(int)\n",
    "test = test.drop(columns=['realty_type'])\n",
    "\n",
    "test['osm_city_nearest_population'] = test['osm_city_nearest_population'].fillna(0)\n",
    "\n",
    "test = test[features]\n",
    "\n",
    "test1knn01 = pd.read_csv(args['knn_tst'], index_col='id')\n",
    "test1lgbm = pd.read_csv(args['lgbm_tst'], index_col='id').rename(columns={'per_square_meter_price' : 'lgbm'})\n",
    "\n",
    "test_ttl = pd.concat([test, test1knn01, test1lgbm], axis=1, join=\"inner\")\n",
    "\n",
    "X_test = test_ttl.to_numpy()"
   ]
  },
  {
   "cell_type": "code",
   "execution_count": 6,
   "id": "4f149b58-b284-4f03-ac88-20cdfa344605",
   "metadata": {},
   "outputs": [],
   "source": [
    "test['per_square_meter_price'] = predict(X_train, y_train, X_test)\n",
    "test[['per_square_meter_price']].to_csv(args['o_tst'])"
   ]
  },
  {
   "cell_type": "code",
   "execution_count": 7,
   "id": "e9ab5edb-fdbc-4992-ad49-60e9a0b2f58a",
   "metadata": {},
   "outputs": [
    {
     "name": "stdout",
     "output_type": "stream",
     "text": [
      "Linreg metrics: {'mdape': 0.23294643700999662, 'rmse': 76302.40970259154, 'r2': 0.3121954360260445, 'raif_metric': 2.1195139566622387}\n"
     ]
    }
   ],
   "source": [
    "from raifhack_ds.metrics import metrics_stat\n",
    "\n",
    "val_true = pd.read_csv('data_split/val_true.csv', index_col='id')['per_square_meter_price']\n",
    "\n",
    "metrics = metrics_stat(val_true.values, test['per_square_meter_price'].values)\n",
    "print(f'Linreg metrics: {metrics}')"
   ]
  },
  {
   "cell_type": "code",
   "execution_count": null,
   "id": "cf97d2fb-0719-4a6c-8f4f-4680b9fb71df",
   "metadata": {},
   "outputs": [],
   "source": []
  }
 ],
 "metadata": {
  "kernelspec": {
   "display_name": "Python 3 (ipykernel)",
   "language": "python",
   "name": "python3"
  },
  "language_info": {
   "codemirror_mode": {
    "name": "ipython",
    "version": 3
   },
   "file_extension": ".py",
   "mimetype": "text/x-python",
   "name": "python",
   "nbconvert_exporter": "python",
   "pygments_lexer": "ipython3",
   "version": "3.9.7"
  }
 },
 "nbformat": 4,
 "nbformat_minor": 5
}
